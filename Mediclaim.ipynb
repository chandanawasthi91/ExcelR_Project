{
 "cells": [
  {
   "cell_type": "code",
   "execution_count": 190,
   "metadata": {},
   "outputs": [],
   "source": [
    "import pandas as pd\n",
    "import numpy as np\n",
    "import os\n",
    "import statistics\n",
    "from matplotlib import pyplot as plt\n",
    "import seaborn as sns\n",
    "%matplotlib inline"
   ]
  },
  {
   "cell_type": "code",
   "execution_count": 191,
   "metadata": {},
   "outputs": [],
   "source": [
    "Mediclaim= pd.read_csv(\"D:\\HealthCare Project\\Dataset\\Insurance_Dataset.csv\", low_memory=False)"
   ]
  },
  {
   "cell_type": "code",
   "execution_count": 192,
   "metadata": {},
   "outputs": [
    {
     "name": "stdout",
     "output_type": "stream",
     "text": [
      "  Area_Service Hospital County  Certificate_num  Hospital Id  \\\n",
      "0   Western NY        Allegany         226700.0         37.0   \n",
      "1   Western NY        Allegany         226700.0         37.0   \n",
      "2   Western NY        Allegany         226700.0         37.0   \n",
      "3   Western NY        Allegany         226700.0         37.0   \n",
      "\n",
      "                Hospital Name          Age zip_code_3_digits Gender  \\\n",
      "0  Cuba Memorial Hospital Inc     30 to 49               147      F   \n",
      "1  Cuba Memorial Hospital Inc  70 or Older               147      F   \n",
      "2  Cuba Memorial Hospital Inc     30 to 49               147      F   \n",
      "3  Cuba Memorial Hospital Inc      0 to 17               147      F   \n",
      "\n",
      "  Cultural_group          ethnicity  ...        Payment_typology_1  \\\n",
      "0          White  Not Span/Hispanic  ...    Blue Cross/Blue Shield   \n",
      "1          White  Not Span/Hispanic  ...                  Medicare   \n",
      "2          White  Not Span/Hispanic  ...    Blue Cross/Blue Shield   \n",
      "3          White  Not Span/Hispanic  ...  Private Health Insurance   \n",
      "\n",
      "  payment_typology_2 payment_typology_3  Weight_baby  Abortion  \\\n",
      "0                NaN                NaN            0         N   \n",
      "1                NaN                NaN            0         N   \n",
      "2                NaN                NaN            0         N   \n",
      "3                NaN                NaN            0         N   \n",
      "\n",
      "  Emergency dept_yes/No  Tot_charg Tot_cost  \\\n",
      "0                     Y    5511.95  5582.49   \n",
      "1                     Y    4783.20  5162.82   \n",
      "2                     Y    3829.15  4056.52   \n",
      "3                     Y    1108.20  1644.75   \n",
      "\n",
      "  ratio_of_total_costs_to_total_charges      Result  \n",
      "0                              1.012798     Genuine  \n",
      "1                              1.079365     Genuine  \n",
      "2                              1.059379     Genuine  \n",
      "3                              1.484167  Fraudulent  \n",
      "\n",
      "[4 rows x 34 columns]\n"
     ]
    }
   ],
   "source": [
    "print(Mediclaim.head(4))"
   ]
  },
  {
   "cell_type": "code",
   "execution_count": 193,
   "metadata": {},
   "outputs": [
    {
     "name": "stdout",
     "output_type": "stream",
     "text": [
      "Index(['Area_Service', 'Hospital County', 'Certificate_num', 'Hospital Id',\n",
      "       'Hospital Name', 'Age', 'zip_code_3_digits', 'Gender', 'Cultural_group',\n",
      "       'ethnicity', 'Days_spend_hsptl', 'Admission_type', 'Home or self care,',\n",
      "       'year_discharge', 'ccs_diagnosis_code', 'ccs_diagnosis_description',\n",
      "       'ccs_procedure_code', 'ccs_procedure_description',\n",
      "       'apr_drg_description', 'apr_mdc_description', 'Code_illness',\n",
      "       'Description_illness', 'Mortality risk', 'Surg_Description',\n",
      "       'Payment_typology_1', 'payment_typology_2', 'payment_typology_3',\n",
      "       'Weight_baby', 'Abortion', 'Emergency dept_yes/No', 'Tot_charg',\n",
      "       'Tot_cost', 'ratio_of_total_costs_to_total_charges', 'Result'],\n",
      "      dtype='object')\n"
     ]
    }
   ],
   "source": [
    "print(Mediclaim.columns) #Prints the column names of the dataset"
   ]
  },
  {
   "cell_type": "code",
   "execution_count": 194,
   "metadata": {},
   "outputs": [],
   "source": [
    "#Removing unnecessary columns from the dataset\n",
    "Mediclaim.drop(['Hospital Id','Certificate_num','Area_Service','Hospital County','payment_typology_2',\\\n",
    "                'payment_typology_3','zip_code_3_digits','year_discharge','Abortion','ethnicity',\\\n",
    "               'ccs_diagnosis_code','ccs_procedure_code','Weight_baby'],axis=1,inplace= True)"
   ]
  },
  {
   "cell_type": "code",
   "execution_count": 195,
   "metadata": {},
   "outputs": [
    {
     "name": "stdout",
     "output_type": "stream",
     "text": [
      "Index(['Hospital Name', 'Age', 'Gender', 'Cultural_group', 'Days_spend_hsptl',\n",
      "       'Admission_type', 'Home or self care,', 'ccs_diagnosis_description',\n",
      "       'ccs_procedure_description', 'apr_drg_description',\n",
      "       'apr_mdc_description', 'Code_illness', 'Description_illness',\n",
      "       'Mortality risk', 'Surg_Description', 'Payment_typology_1',\n",
      "       'Emergency dept_yes/No', 'Tot_charg', 'Tot_cost',\n",
      "       'ratio_of_total_costs_to_total_charges', 'Result'],\n",
      "      dtype='object')\n"
     ]
    }
   ],
   "source": [
    "print(Mediclaim.columns)"
   ]
  },
  {
   "cell_type": "markdown",
   "metadata": {},
   "source": [
    "# Exploratory Data Analysis"
   ]
  },
  {
   "cell_type": "code",
   "execution_count": 196,
   "metadata": {},
   "outputs": [
    {
     "data": {
      "text/html": [
       "<div>\n",
       "<style scoped>\n",
       "    .dataframe tbody tr th:only-of-type {\n",
       "        vertical-align: middle;\n",
       "    }\n",
       "\n",
       "    .dataframe tbody tr th {\n",
       "        vertical-align: top;\n",
       "    }\n",
       "\n",
       "    .dataframe thead th {\n",
       "        text-align: right;\n",
       "    }\n",
       "</style>\n",
       "<table border=\"1\" class=\"dataframe\">\n",
       "  <thead>\n",
       "    <tr style=\"text-align: right;\">\n",
       "      <th></th>\n",
       "      <th>Hospital Name</th>\n",
       "      <th>Age</th>\n",
       "      <th>Gender</th>\n",
       "      <th>Cultural_group</th>\n",
       "      <th>Days_spend_hsptl</th>\n",
       "      <th>Admission_type</th>\n",
       "      <th>Home or self care,</th>\n",
       "      <th>ccs_diagnosis_description</th>\n",
       "      <th>ccs_procedure_description</th>\n",
       "      <th>apr_drg_description</th>\n",
       "      <th>...</th>\n",
       "      <th>Code_illness</th>\n",
       "      <th>Description_illness</th>\n",
       "      <th>Mortality risk</th>\n",
       "      <th>Surg_Description</th>\n",
       "      <th>Payment_typology_1</th>\n",
       "      <th>Emergency dept_yes/No</th>\n",
       "      <th>Tot_charg</th>\n",
       "      <th>Tot_cost</th>\n",
       "      <th>ratio_of_total_costs_to_total_charges</th>\n",
       "      <th>Result</th>\n",
       "    </tr>\n",
       "  </thead>\n",
       "  <tbody>\n",
       "    <tr>\n",
       "      <td>0</td>\n",
       "      <td>Cuba Memorial Hospital Inc</td>\n",
       "      <td>30 to 49</td>\n",
       "      <td>F</td>\n",
       "      <td>White</td>\n",
       "      <td>4</td>\n",
       "      <td>Elective</td>\n",
       "      <td>Home or Self Care</td>\n",
       "      <td>Pneumonia (except that caused by tuberculosis ...</td>\n",
       "      <td>NO PROC</td>\n",
       "      <td>Other pneumonia</td>\n",
       "      <td>...</td>\n",
       "      <td>1</td>\n",
       "      <td>Minor</td>\n",
       "      <td>Minor</td>\n",
       "      <td>Medical</td>\n",
       "      <td>Blue Cross/Blue Shield</td>\n",
       "      <td>Y</td>\n",
       "      <td>5511.95</td>\n",
       "      <td>5582.49</td>\n",
       "      <td>1.012798</td>\n",
       "      <td>Genuine</td>\n",
       "    </tr>\n",
       "    <tr>\n",
       "      <td>1</td>\n",
       "      <td>Cuba Memorial Hospital Inc</td>\n",
       "      <td>70 or Older</td>\n",
       "      <td>F</td>\n",
       "      <td>White</td>\n",
       "      <td>4</td>\n",
       "      <td>Urgent</td>\n",
       "      <td>Short-term Hospital</td>\n",
       "      <td>Skin and subcutaneous tissue infections</td>\n",
       "      <td>NO PROC</td>\n",
       "      <td>Cellulitis &amp; other skin infections</td>\n",
       "      <td>...</td>\n",
       "      <td>3</td>\n",
       "      <td>Major</td>\n",
       "      <td>Major</td>\n",
       "      <td>Medical</td>\n",
       "      <td>Medicare</td>\n",
       "      <td>Y</td>\n",
       "      <td>4783.20</td>\n",
       "      <td>5162.82</td>\n",
       "      <td>1.079365</td>\n",
       "      <td>Genuine</td>\n",
       "    </tr>\n",
       "    <tr>\n",
       "      <td>2</td>\n",
       "      <td>Cuba Memorial Hospital Inc</td>\n",
       "      <td>30 to 49</td>\n",
       "      <td>F</td>\n",
       "      <td>White</td>\n",
       "      <td>3</td>\n",
       "      <td>Urgent</td>\n",
       "      <td>Home or Self Care</td>\n",
       "      <td>Pneumonia (except that caused by tuberculosis ...</td>\n",
       "      <td>NO PROC</td>\n",
       "      <td>Other pneumonia</td>\n",
       "      <td>...</td>\n",
       "      <td>1</td>\n",
       "      <td>Minor</td>\n",
       "      <td>Minor</td>\n",
       "      <td>Medical</td>\n",
       "      <td>Blue Cross/Blue Shield</td>\n",
       "      <td>Y</td>\n",
       "      <td>3829.15</td>\n",
       "      <td>4056.52</td>\n",
       "      <td>1.059379</td>\n",
       "      <td>Genuine</td>\n",
       "    </tr>\n",
       "    <tr>\n",
       "      <td>4</td>\n",
       "      <td>Cuba Memorial Hospital Inc</td>\n",
       "      <td>70 or Older</td>\n",
       "      <td>F</td>\n",
       "      <td>White</td>\n",
       "      <td>3</td>\n",
       "      <td>Elective</td>\n",
       "      <td>Home or Self Care</td>\n",
       "      <td>Pneumonia (except that caused by tuberculosis ...</td>\n",
       "      <td>NO PROC</td>\n",
       "      <td>Other pneumonia</td>\n",
       "      <td>...</td>\n",
       "      <td>2</td>\n",
       "      <td>Moderate</td>\n",
       "      <td>Moderate</td>\n",
       "      <td>Medical</td>\n",
       "      <td>Medicare</td>\n",
       "      <td>Y</td>\n",
       "      <td>3418.18</td>\n",
       "      <td>3370.87</td>\n",
       "      <td>0.986161</td>\n",
       "      <td>Genuine</td>\n",
       "    </tr>\n",
       "    <tr>\n",
       "      <td>5</td>\n",
       "      <td>Cuba Memorial Hospital Inc</td>\n",
       "      <td>0 to 17</td>\n",
       "      <td>F</td>\n",
       "      <td>White</td>\n",
       "      <td>1</td>\n",
       "      <td>Elective</td>\n",
       "      <td>Home or Self Care</td>\n",
       "      <td>Appendicitis and other appendiceal conditions</td>\n",
       "      <td>NO PROC</td>\n",
       "      <td>Other digestive system diagnoses</td>\n",
       "      <td>...</td>\n",
       "      <td>1</td>\n",
       "      <td>Minor</td>\n",
       "      <td>Minor</td>\n",
       "      <td>Medical</td>\n",
       "      <td>Medicaid</td>\n",
       "      <td>Y</td>\n",
       "      <td>1386.10</td>\n",
       "      <td>1919.46</td>\n",
       "      <td>1.384794</td>\n",
       "      <td>Genuine</td>\n",
       "    </tr>\n",
       "    <tr>\n",
       "      <td>...</td>\n",
       "      <td>...</td>\n",
       "      <td>...</td>\n",
       "      <td>...</td>\n",
       "      <td>...</td>\n",
       "      <td>...</td>\n",
       "      <td>...</td>\n",
       "      <td>...</td>\n",
       "      <td>...</td>\n",
       "      <td>...</td>\n",
       "      <td>...</td>\n",
       "      <td>...</td>\n",
       "      <td>...</td>\n",
       "      <td>...</td>\n",
       "      <td>...</td>\n",
       "      <td>...</td>\n",
       "      <td>...</td>\n",
       "      <td>...</td>\n",
       "      <td>...</td>\n",
       "      <td>...</td>\n",
       "      <td>...</td>\n",
       "      <td>...</td>\n",
       "    </tr>\n",
       "    <tr>\n",
       "      <td>1048569</td>\n",
       "      <td>Montefiore Medical Center - Henry &amp; Lucy Moses...</td>\n",
       "      <td>70 or Older</td>\n",
       "      <td>M</td>\n",
       "      <td>White</td>\n",
       "      <td>29</td>\n",
       "      <td>Emergency</td>\n",
       "      <td>Skilled Nursing Home</td>\n",
       "      <td>Phlebitis; thrombophlebitis and thromboembolism</td>\n",
       "      <td>OT OR PRCS VES NOT HEAD</td>\n",
       "      <td>Peripheral &amp; other vascular disorders</td>\n",
       "      <td>...</td>\n",
       "      <td>4</td>\n",
       "      <td>Extreme</td>\n",
       "      <td>Extreme</td>\n",
       "      <td>Medical</td>\n",
       "      <td>Medicare</td>\n",
       "      <td>Y</td>\n",
       "      <td>322219.69</td>\n",
       "      <td>66534.62</td>\n",
       "      <td>0.206488</td>\n",
       "      <td>Genuine</td>\n",
       "    </tr>\n",
       "    <tr>\n",
       "      <td>1048570</td>\n",
       "      <td>Montefiore Medical Center - Henry &amp; Lucy Moses...</td>\n",
       "      <td>70 or Older</td>\n",
       "      <td>F</td>\n",
       "      <td>Other Race</td>\n",
       "      <td>6</td>\n",
       "      <td>Emergency</td>\n",
       "      <td>Skilled Nursing Home</td>\n",
       "      <td>Cardiac dysrhythmias</td>\n",
       "      <td>ORAL AND DENTAL SVCS</td>\n",
       "      <td>Cardiac arrhythmia &amp; conduction disorders</td>\n",
       "      <td>...</td>\n",
       "      <td>2</td>\n",
       "      <td>Moderate</td>\n",
       "      <td>Moderate</td>\n",
       "      <td>Medical</td>\n",
       "      <td>Medicare</td>\n",
       "      <td>Y</td>\n",
       "      <td>69650.41</td>\n",
       "      <td>13896.82</td>\n",
       "      <td>0.199522</td>\n",
       "      <td>Genuine</td>\n",
       "    </tr>\n",
       "    <tr>\n",
       "      <td>1048571</td>\n",
       "      <td>Montefiore Medical Center - Henry &amp; Lucy Moses...</td>\n",
       "      <td>0 to 17</td>\n",
       "      <td>F</td>\n",
       "      <td>Other Race</td>\n",
       "      <td>2</td>\n",
       "      <td>Emergency</td>\n",
       "      <td>Home or Self Care</td>\n",
       "      <td>Other infections; including parasitic</td>\n",
       "      <td>OTHER THERAPEUTIC PRCS</td>\n",
       "      <td>Other infectious &amp; parasitic diseases</td>\n",
       "      <td>...</td>\n",
       "      <td>2</td>\n",
       "      <td>Moderate</td>\n",
       "      <td>Minor</td>\n",
       "      <td>Medical</td>\n",
       "      <td>Medicaid</td>\n",
       "      <td>N</td>\n",
       "      <td>13587.38</td>\n",
       "      <td>3918.35</td>\n",
       "      <td>0.288382</td>\n",
       "      <td>Genuine</td>\n",
       "    </tr>\n",
       "    <tr>\n",
       "      <td>1048573</td>\n",
       "      <td>Montefiore Medical Center - Henry &amp; Lucy Moses...</td>\n",
       "      <td>30 to 49</td>\n",
       "      <td>F</td>\n",
       "      <td>Black/African American</td>\n",
       "      <td>2</td>\n",
       "      <td>Emergency</td>\n",
       "      <td>Home or Self Care</td>\n",
       "      <td>Abdominal hernia</td>\n",
       "      <td>OTHER HERNIA REPAIR</td>\n",
       "      <td>Inguinal, femoral &amp; umbilical hernia procedures</td>\n",
       "      <td>...</td>\n",
       "      <td>1</td>\n",
       "      <td>Minor</td>\n",
       "      <td>Minor</td>\n",
       "      <td>Surgical</td>\n",
       "      <td>Medicaid</td>\n",
       "      <td>Y</td>\n",
       "      <td>27521.41</td>\n",
       "      <td>6766.04</td>\n",
       "      <td>0.245846</td>\n",
       "      <td>Genuine</td>\n",
       "    </tr>\n",
       "    <tr>\n",
       "      <td>1048574</td>\n",
       "      <td>Montefiore Medical Center - Henry &amp; Lucy Moses...</td>\n",
       "      <td>50 to 69</td>\n",
       "      <td>M</td>\n",
       "      <td>Other Race</td>\n",
       "      <td>2</td>\n",
       "      <td>Emergency</td>\n",
       "      <td>Home or Self Care</td>\n",
       "      <td>Cardiac dysrhythmias</td>\n",
       "      <td>NO PROC</td>\n",
       "      <td>Cardiac arrhythmia &amp; conduction disorders</td>\n",
       "      <td>...</td>\n",
       "      <td>1</td>\n",
       "      <td>Minor</td>\n",
       "      <td>Minor</td>\n",
       "      <td>Medical</td>\n",
       "      <td>Private Health Insurance</td>\n",
       "      <td>Y</td>\n",
       "      <td>24832.23</td>\n",
       "      <td>4974.66</td>\n",
       "      <td>0.200331</td>\n",
       "      <td>Genuine</td>\n",
       "    </tr>\n",
       "  </tbody>\n",
       "</table>\n",
       "<p>786407 rows × 21 columns</p>\n",
       "</div>"
      ],
      "text/plain": [
       "                                             Hospital Name          Age  \\\n",
       "0                               Cuba Memorial Hospital Inc     30 to 49   \n",
       "1                               Cuba Memorial Hospital Inc  70 or Older   \n",
       "2                               Cuba Memorial Hospital Inc     30 to 49   \n",
       "4                               Cuba Memorial Hospital Inc  70 or Older   \n",
       "5                               Cuba Memorial Hospital Inc      0 to 17   \n",
       "...                                                    ...          ...   \n",
       "1048569  Montefiore Medical Center - Henry & Lucy Moses...  70 or Older   \n",
       "1048570  Montefiore Medical Center - Henry & Lucy Moses...  70 or Older   \n",
       "1048571  Montefiore Medical Center - Henry & Lucy Moses...      0 to 17   \n",
       "1048573  Montefiore Medical Center - Henry & Lucy Moses...     30 to 49   \n",
       "1048574  Montefiore Medical Center - Henry & Lucy Moses...     50 to 69   \n",
       "\n",
       "        Gender          Cultural_group Days_spend_hsptl Admission_type  \\\n",
       "0            F                   White                4       Elective   \n",
       "1            F                   White                4         Urgent   \n",
       "2            F                   White                3         Urgent   \n",
       "4            F                   White                3       Elective   \n",
       "5            F                   White                1       Elective   \n",
       "...        ...                     ...              ...            ...   \n",
       "1048569      M                   White               29      Emergency   \n",
       "1048570      F              Other Race                6      Emergency   \n",
       "1048571      F              Other Race                2      Emergency   \n",
       "1048573      F  Black/African American                2      Emergency   \n",
       "1048574      M              Other Race                2      Emergency   \n",
       "\n",
       "           Home or self care,  \\\n",
       "0           Home or Self Care   \n",
       "1         Short-term Hospital   \n",
       "2           Home or Self Care   \n",
       "4           Home or Self Care   \n",
       "5           Home or Self Care   \n",
       "...                       ...   \n",
       "1048569  Skilled Nursing Home   \n",
       "1048570  Skilled Nursing Home   \n",
       "1048571     Home or Self Care   \n",
       "1048573     Home or Self Care   \n",
       "1048574     Home or Self Care   \n",
       "\n",
       "                                 ccs_diagnosis_description  \\\n",
       "0        Pneumonia (except that caused by tuberculosis ...   \n",
       "1                  Skin and subcutaneous tissue infections   \n",
       "2        Pneumonia (except that caused by tuberculosis ...   \n",
       "4        Pneumonia (except that caused by tuberculosis ...   \n",
       "5            Appendicitis and other appendiceal conditions   \n",
       "...                                                    ...   \n",
       "1048569    Phlebitis; thrombophlebitis and thromboembolism   \n",
       "1048570                               Cardiac dysrhythmias   \n",
       "1048571              Other infections; including parasitic   \n",
       "1048573                                   Abdominal hernia   \n",
       "1048574                               Cardiac dysrhythmias   \n",
       "\n",
       "        ccs_procedure_description  \\\n",
       "0                         NO PROC   \n",
       "1                         NO PROC   \n",
       "2                         NO PROC   \n",
       "4                         NO PROC   \n",
       "5                         NO PROC   \n",
       "...                           ...   \n",
       "1048569   OT OR PRCS VES NOT HEAD   \n",
       "1048570      ORAL AND DENTAL SVCS   \n",
       "1048571    OTHER THERAPEUTIC PRCS   \n",
       "1048573       OTHER HERNIA REPAIR   \n",
       "1048574                   NO PROC   \n",
       "\n",
       "                                     apr_drg_description  ... Code_illness  \\\n",
       "0                                        Other pneumonia  ...            1   \n",
       "1                     Cellulitis & other skin infections  ...            3   \n",
       "2                                        Other pneumonia  ...            1   \n",
       "4                                        Other pneumonia  ...            2   \n",
       "5                       Other digestive system diagnoses  ...            1   \n",
       "...                                                  ...  ...          ...   \n",
       "1048569            Peripheral & other vascular disorders  ...            4   \n",
       "1048570        Cardiac arrhythmia & conduction disorders  ...            2   \n",
       "1048571            Other infectious & parasitic diseases  ...            2   \n",
       "1048573  Inguinal, femoral & umbilical hernia procedures  ...            1   \n",
       "1048574        Cardiac arrhythmia & conduction disorders  ...            1   \n",
       "\n",
       "         Description_illness Mortality risk Surg_Description  \\\n",
       "0                      Minor          Minor          Medical   \n",
       "1                      Major          Major          Medical   \n",
       "2                      Minor          Minor          Medical   \n",
       "4                   Moderate       Moderate          Medical   \n",
       "5                      Minor          Minor          Medical   \n",
       "...                      ...            ...              ...   \n",
       "1048569              Extreme        Extreme          Medical   \n",
       "1048570             Moderate       Moderate          Medical   \n",
       "1048571             Moderate          Minor          Medical   \n",
       "1048573                Minor          Minor         Surgical   \n",
       "1048574                Minor          Minor          Medical   \n",
       "\n",
       "               Payment_typology_1 Emergency dept_yes/No  Tot_charg  Tot_cost  \\\n",
       "0          Blue Cross/Blue Shield                     Y    5511.95   5582.49   \n",
       "1                        Medicare                     Y    4783.20   5162.82   \n",
       "2          Blue Cross/Blue Shield                     Y    3829.15   4056.52   \n",
       "4                        Medicare                     Y    3418.18   3370.87   \n",
       "5                        Medicaid                     Y    1386.10   1919.46   \n",
       "...                           ...                   ...        ...       ...   \n",
       "1048569                  Medicare                     Y  322219.69  66534.62   \n",
       "1048570                  Medicare                     Y   69650.41  13896.82   \n",
       "1048571                  Medicaid                     N   13587.38   3918.35   \n",
       "1048573                  Medicaid                     Y   27521.41   6766.04   \n",
       "1048574  Private Health Insurance                     Y   24832.23   4974.66   \n",
       "\n",
       "         ratio_of_total_costs_to_total_charges   Result  \n",
       "0                                     1.012798  Genuine  \n",
       "1                                     1.079365  Genuine  \n",
       "2                                     1.059379  Genuine  \n",
       "4                                     0.986161  Genuine  \n",
       "5                                     1.384794  Genuine  \n",
       "...                                        ...      ...  \n",
       "1048569                               0.206488  Genuine  \n",
       "1048570                               0.199522  Genuine  \n",
       "1048571                               0.288382  Genuine  \n",
       "1048573                               0.245846  Genuine  \n",
       "1048574                               0.200331  Genuine  \n",
       "\n",
       "[786407 rows x 21 columns]"
      ]
     },
     "execution_count": 196,
     "metadata": {},
     "output_type": "execute_result"
    }
   ],
   "source": [
    "Mediclaim.loc[Mediclaim[\"Result\"]==\"Genuine\"]"
   ]
  },
  {
   "cell_type": "code",
   "execution_count": 197,
   "metadata": {},
   "outputs": [
    {
     "data": {
      "text/html": [
       "<div>\n",
       "<style scoped>\n",
       "    .dataframe tbody tr th:only-of-type {\n",
       "        vertical-align: middle;\n",
       "    }\n",
       "\n",
       "    .dataframe tbody tr th {\n",
       "        vertical-align: top;\n",
       "    }\n",
       "\n",
       "    .dataframe thead th {\n",
       "        text-align: right;\n",
       "    }\n",
       "</style>\n",
       "<table border=\"1\" class=\"dataframe\">\n",
       "  <thead>\n",
       "    <tr style=\"text-align: right;\">\n",
       "      <th></th>\n",
       "      <th>Hospital Name</th>\n",
       "      <th>Age</th>\n",
       "      <th>Gender</th>\n",
       "      <th>Cultural_group</th>\n",
       "      <th>Days_spend_hsptl</th>\n",
       "      <th>Admission_type</th>\n",
       "      <th>Home or self care,</th>\n",
       "      <th>ccs_diagnosis_description</th>\n",
       "      <th>ccs_procedure_description</th>\n",
       "      <th>apr_drg_description</th>\n",
       "      <th>...</th>\n",
       "      <th>Code_illness</th>\n",
       "      <th>Description_illness</th>\n",
       "      <th>Mortality risk</th>\n",
       "      <th>Surg_Description</th>\n",
       "      <th>Payment_typology_1</th>\n",
       "      <th>Emergency dept_yes/No</th>\n",
       "      <th>Tot_charg</th>\n",
       "      <th>Tot_cost</th>\n",
       "      <th>ratio_of_total_costs_to_total_charges</th>\n",
       "      <th>Result</th>\n",
       "    </tr>\n",
       "  </thead>\n",
       "  <tbody>\n",
       "    <tr>\n",
       "      <td>3</td>\n",
       "      <td>Cuba Memorial Hospital Inc</td>\n",
       "      <td>0 to 17</td>\n",
       "      <td>F</td>\n",
       "      <td>White</td>\n",
       "      <td>1</td>\n",
       "      <td>Urgent</td>\n",
       "      <td>Home or Self Care</td>\n",
       "      <td>Pneumonia (except that caused by tuberculosis ...</td>\n",
       "      <td>NO PROC</td>\n",
       "      <td>Other pneumonia</td>\n",
       "      <td>...</td>\n",
       "      <td>1</td>\n",
       "      <td>Minor</td>\n",
       "      <td>Minor</td>\n",
       "      <td>Medical</td>\n",
       "      <td>Private Health Insurance</td>\n",
       "      <td>Y</td>\n",
       "      <td>1108.20</td>\n",
       "      <td>1644.75</td>\n",
       "      <td>1.484167</td>\n",
       "      <td>Fraudulent</td>\n",
       "    </tr>\n",
       "    <tr>\n",
       "      <td>9</td>\n",
       "      <td>Cuba Memorial Hospital Inc</td>\n",
       "      <td>50 to 69</td>\n",
       "      <td>M</td>\n",
       "      <td>White</td>\n",
       "      <td>2</td>\n",
       "      <td>Elective</td>\n",
       "      <td>Home or Self Care</td>\n",
       "      <td>Pneumonia (except that caused by tuberculosis ...</td>\n",
       "      <td>NO PROC</td>\n",
       "      <td>Other pneumonia</td>\n",
       "      <td>...</td>\n",
       "      <td>2</td>\n",
       "      <td>Moderate</td>\n",
       "      <td>Minor</td>\n",
       "      <td>Medical</td>\n",
       "      <td>Medicare</td>\n",
       "      <td>Y</td>\n",
       "      <td>2661.61</td>\n",
       "      <td>2901.41</td>\n",
       "      <td>1.090095</td>\n",
       "      <td>Fraudulent</td>\n",
       "    </tr>\n",
       "    <tr>\n",
       "      <td>11</td>\n",
       "      <td>Cuba Memorial Hospital Inc</td>\n",
       "      <td>50 to 69</td>\n",
       "      <td>M</td>\n",
       "      <td>White</td>\n",
       "      <td>2</td>\n",
       "      <td>Elective</td>\n",
       "      <td>Home or Self Care</td>\n",
       "      <td>Pneumonia (except that caused by tuberculosis ...</td>\n",
       "      <td>ELECTROCARDIOGRAM</td>\n",
       "      <td>Other pneumonia</td>\n",
       "      <td>...</td>\n",
       "      <td>3</td>\n",
       "      <td>Major</td>\n",
       "      <td>Moderate</td>\n",
       "      <td>Medical</td>\n",
       "      <td>Medicare</td>\n",
       "      <td>Y</td>\n",
       "      <td>2893.96</td>\n",
       "      <td>3450.19</td>\n",
       "      <td>1.192205</td>\n",
       "      <td>Fraudulent</td>\n",
       "    </tr>\n",
       "    <tr>\n",
       "      <td>22</td>\n",
       "      <td>Cuba Memorial Hospital Inc</td>\n",
       "      <td>0 to 17</td>\n",
       "      <td>M</td>\n",
       "      <td>White</td>\n",
       "      <td>1</td>\n",
       "      <td>Urgent</td>\n",
       "      <td>Home or Self Care</td>\n",
       "      <td>Pneumonia (except that caused by tuberculosis ...</td>\n",
       "      <td>NO PROC</td>\n",
       "      <td>Other pneumonia</td>\n",
       "      <td>...</td>\n",
       "      <td>1</td>\n",
       "      <td>Minor</td>\n",
       "      <td>Minor</td>\n",
       "      <td>Medical</td>\n",
       "      <td>Federal/State/Local/VA</td>\n",
       "      <td>Y</td>\n",
       "      <td>1301.70</td>\n",
       "      <td>1729.54</td>\n",
       "      <td>1.328677</td>\n",
       "      <td>Fraudulent</td>\n",
       "    </tr>\n",
       "    <tr>\n",
       "      <td>23</td>\n",
       "      <td>Cuba Memorial Hospital Inc</td>\n",
       "      <td>50 to 69</td>\n",
       "      <td>F</td>\n",
       "      <td>White</td>\n",
       "      <td>2</td>\n",
       "      <td>Elective</td>\n",
       "      <td>Home or Self Care</td>\n",
       "      <td>Diverticulosis and diverticulitis</td>\n",
       "      <td>NO PROC</td>\n",
       "      <td>Diverticulitis &amp; diverticulosis</td>\n",
       "      <td>...</td>\n",
       "      <td>2</td>\n",
       "      <td>Moderate</td>\n",
       "      <td>Minor</td>\n",
       "      <td>Medical</td>\n",
       "      <td>Medicare</td>\n",
       "      <td>Y</td>\n",
       "      <td>3384.50</td>\n",
       "      <td>4244.32</td>\n",
       "      <td>1.254045</td>\n",
       "      <td>Fraudulent</td>\n",
       "    </tr>\n",
       "    <tr>\n",
       "      <td>...</td>\n",
       "      <td>...</td>\n",
       "      <td>...</td>\n",
       "      <td>...</td>\n",
       "      <td>...</td>\n",
       "      <td>...</td>\n",
       "      <td>...</td>\n",
       "      <td>...</td>\n",
       "      <td>...</td>\n",
       "      <td>...</td>\n",
       "      <td>...</td>\n",
       "      <td>...</td>\n",
       "      <td>...</td>\n",
       "      <td>...</td>\n",
       "      <td>...</td>\n",
       "      <td>...</td>\n",
       "      <td>...</td>\n",
       "      <td>...</td>\n",
       "      <td>...</td>\n",
       "      <td>...</td>\n",
       "      <td>...</td>\n",
       "      <td>...</td>\n",
       "    </tr>\n",
       "    <tr>\n",
       "      <td>1048557</td>\n",
       "      <td>Montefiore Medical Center - Henry &amp; Lucy Moses...</td>\n",
       "      <td>0 to 17</td>\n",
       "      <td>F</td>\n",
       "      <td>Other Race</td>\n",
       "      <td>2</td>\n",
       "      <td>Emergency</td>\n",
       "      <td>Home or Self Care</td>\n",
       "      <td>Asthma</td>\n",
       "      <td>OTHER RESP THERAPY</td>\n",
       "      <td>Asthma</td>\n",
       "      <td>...</td>\n",
       "      <td>2</td>\n",
       "      <td>Moderate</td>\n",
       "      <td>Minor</td>\n",
       "      <td>Medical</td>\n",
       "      <td>Medicaid</td>\n",
       "      <td>Y</td>\n",
       "      <td>16889.91</td>\n",
       "      <td>4416.32</td>\n",
       "      <td>0.261477</td>\n",
       "      <td>Fraudulent</td>\n",
       "    </tr>\n",
       "    <tr>\n",
       "      <td>1048560</td>\n",
       "      <td>Montefiore Medical Center - Henry &amp; Lucy Moses...</td>\n",
       "      <td>70 or Older</td>\n",
       "      <td>M</td>\n",
       "      <td>White</td>\n",
       "      <td>2</td>\n",
       "      <td>Emergency</td>\n",
       "      <td>Home or Self Care</td>\n",
       "      <td>Complication of device; implant or graft</td>\n",
       "      <td>OT DX PRC (INTERVW,EVAL</td>\n",
       "      <td>Malfunction,reaction,complication of cardiac/v...</td>\n",
       "      <td>...</td>\n",
       "      <td>2</td>\n",
       "      <td>Moderate</td>\n",
       "      <td>Major</td>\n",
       "      <td>Medical</td>\n",
       "      <td>Private Health Insurance</td>\n",
       "      <td>N</td>\n",
       "      <td>23618.91</td>\n",
       "      <td>4417.51</td>\n",
       "      <td>0.187033</td>\n",
       "      <td>Fraudulent</td>\n",
       "    </tr>\n",
       "    <tr>\n",
       "      <td>1048565</td>\n",
       "      <td>Montefiore Medical Center - Henry &amp; Lucy Moses...</td>\n",
       "      <td>0 to 17</td>\n",
       "      <td>M</td>\n",
       "      <td>Other Race</td>\n",
       "      <td>2</td>\n",
       "      <td>Emergency</td>\n",
       "      <td>Home or Self Care</td>\n",
       "      <td>Asthma</td>\n",
       "      <td>OTHER RESP THERAPY</td>\n",
       "      <td>Asthma</td>\n",
       "      <td>...</td>\n",
       "      <td>2</td>\n",
       "      <td>Moderate</td>\n",
       "      <td>Minor</td>\n",
       "      <td>Medical</td>\n",
       "      <td>Medicaid</td>\n",
       "      <td>Y</td>\n",
       "      <td>17008.95</td>\n",
       "      <td>4445.48</td>\n",
       "      <td>0.261361</td>\n",
       "      <td>Fraudulent</td>\n",
       "    </tr>\n",
       "    <tr>\n",
       "      <td>1048568</td>\n",
       "      <td>Montefiore Medical Center - Henry &amp; Lucy Moses...</td>\n",
       "      <td>70 or Older</td>\n",
       "      <td>M</td>\n",
       "      <td>White</td>\n",
       "      <td>5</td>\n",
       "      <td>Emergency</td>\n",
       "      <td>Home w/ Home Health Services</td>\n",
       "      <td>Viral infection</td>\n",
       "      <td>NO PROC</td>\n",
       "      <td>Viral illness</td>\n",
       "      <td>...</td>\n",
       "      <td>3</td>\n",
       "      <td>Major</td>\n",
       "      <td>Moderate</td>\n",
       "      <td>Medical</td>\n",
       "      <td>Medicare</td>\n",
       "      <td>Y</td>\n",
       "      <td>42573.55</td>\n",
       "      <td>9196.49</td>\n",
       "      <td>0.216014</td>\n",
       "      <td>Fraudulent</td>\n",
       "    </tr>\n",
       "    <tr>\n",
       "      <td>1048572</td>\n",
       "      <td>Montefiore Medical Center - Henry &amp; Lucy Moses...</td>\n",
       "      <td>50 to 69</td>\n",
       "      <td>M</td>\n",
       "      <td>Other Race</td>\n",
       "      <td>13</td>\n",
       "      <td>Emergency</td>\n",
       "      <td>Medicare Cert Long Term Care Hospital</td>\n",
       "      <td>Other liver diseases</td>\n",
       "      <td>ABDOMINAL PARACENTESIS</td>\n",
       "      <td>Hepatic coma &amp; other major acute liver disorders</td>\n",
       "      <td>...</td>\n",
       "      <td>4</td>\n",
       "      <td>Extreme</td>\n",
       "      <td>Extreme</td>\n",
       "      <td>Medical</td>\n",
       "      <td>Medicaid</td>\n",
       "      <td>Y</td>\n",
       "      <td>104629.78</td>\n",
       "      <td>24746.64</td>\n",
       "      <td>0.236516</td>\n",
       "      <td>Fraudulent</td>\n",
       "    </tr>\n",
       "  </tbody>\n",
       "</table>\n",
       "<p>262168 rows × 21 columns</p>\n",
       "</div>"
      ],
      "text/plain": [
       "                                             Hospital Name          Age  \\\n",
       "3                               Cuba Memorial Hospital Inc      0 to 17   \n",
       "9                               Cuba Memorial Hospital Inc     50 to 69   \n",
       "11                              Cuba Memorial Hospital Inc     50 to 69   \n",
       "22                              Cuba Memorial Hospital Inc      0 to 17   \n",
       "23                              Cuba Memorial Hospital Inc     50 to 69   \n",
       "...                                                    ...          ...   \n",
       "1048557  Montefiore Medical Center - Henry & Lucy Moses...      0 to 17   \n",
       "1048560  Montefiore Medical Center - Henry & Lucy Moses...  70 or Older   \n",
       "1048565  Montefiore Medical Center - Henry & Lucy Moses...      0 to 17   \n",
       "1048568  Montefiore Medical Center - Henry & Lucy Moses...  70 or Older   \n",
       "1048572  Montefiore Medical Center - Henry & Lucy Moses...     50 to 69   \n",
       "\n",
       "        Gender Cultural_group Days_spend_hsptl Admission_type  \\\n",
       "3            F          White                1         Urgent   \n",
       "9            M          White                2       Elective   \n",
       "11           M          White                2       Elective   \n",
       "22           M          White                1         Urgent   \n",
       "23           F          White                2       Elective   \n",
       "...        ...            ...              ...            ...   \n",
       "1048557      F     Other Race                2      Emergency   \n",
       "1048560      M          White                2      Emergency   \n",
       "1048565      M     Other Race                2      Emergency   \n",
       "1048568      M          White                5      Emergency   \n",
       "1048572      M     Other Race               13      Emergency   \n",
       "\n",
       "                            Home or self care,  \\\n",
       "3                            Home or Self Care   \n",
       "9                            Home or Self Care   \n",
       "11                           Home or Self Care   \n",
       "22                           Home or Self Care   \n",
       "23                           Home or Self Care   \n",
       "...                                        ...   \n",
       "1048557                      Home or Self Care   \n",
       "1048560                      Home or Self Care   \n",
       "1048565                      Home or Self Care   \n",
       "1048568           Home w/ Home Health Services   \n",
       "1048572  Medicare Cert Long Term Care Hospital   \n",
       "\n",
       "                                 ccs_diagnosis_description  \\\n",
       "3        Pneumonia (except that caused by tuberculosis ...   \n",
       "9        Pneumonia (except that caused by tuberculosis ...   \n",
       "11       Pneumonia (except that caused by tuberculosis ...   \n",
       "22       Pneumonia (except that caused by tuberculosis ...   \n",
       "23                       Diverticulosis and diverticulitis   \n",
       "...                                                    ...   \n",
       "1048557                                             Asthma   \n",
       "1048560           Complication of device; implant or graft   \n",
       "1048565                                             Asthma   \n",
       "1048568                                    Viral infection   \n",
       "1048572                               Other liver diseases   \n",
       "\n",
       "        ccs_procedure_description  \\\n",
       "3                         NO PROC   \n",
       "9                         NO PROC   \n",
       "11              ELECTROCARDIOGRAM   \n",
       "22                        NO PROC   \n",
       "23                        NO PROC   \n",
       "...                           ...   \n",
       "1048557        OTHER RESP THERAPY   \n",
       "1048560   OT DX PRC (INTERVW,EVAL   \n",
       "1048565        OTHER RESP THERAPY   \n",
       "1048568                   NO PROC   \n",
       "1048572    ABDOMINAL PARACENTESIS   \n",
       "\n",
       "                                       apr_drg_description  ... Code_illness  \\\n",
       "3                                          Other pneumonia  ...            1   \n",
       "9                                          Other pneumonia  ...            2   \n",
       "11                                         Other pneumonia  ...            3   \n",
       "22                                         Other pneumonia  ...            1   \n",
       "23                         Diverticulitis & diverticulosis  ...            2   \n",
       "...                                                    ...  ...          ...   \n",
       "1048557                                             Asthma  ...            2   \n",
       "1048560  Malfunction,reaction,complication of cardiac/v...  ...            2   \n",
       "1048565                                             Asthma  ...            2   \n",
       "1048568                                      Viral illness  ...            3   \n",
       "1048572   Hepatic coma & other major acute liver disorders  ...            4   \n",
       "\n",
       "         Description_illness Mortality risk Surg_Description  \\\n",
       "3                      Minor          Minor          Medical   \n",
       "9                   Moderate          Minor          Medical   \n",
       "11                     Major       Moderate          Medical   \n",
       "22                     Minor          Minor          Medical   \n",
       "23                  Moderate          Minor          Medical   \n",
       "...                      ...            ...              ...   \n",
       "1048557             Moderate          Minor          Medical   \n",
       "1048560             Moderate          Major          Medical   \n",
       "1048565             Moderate          Minor          Medical   \n",
       "1048568                Major       Moderate          Medical   \n",
       "1048572              Extreme        Extreme          Medical   \n",
       "\n",
       "               Payment_typology_1 Emergency dept_yes/No  Tot_charg  Tot_cost  \\\n",
       "3        Private Health Insurance                     Y    1108.20   1644.75   \n",
       "9                        Medicare                     Y    2661.61   2901.41   \n",
       "11                       Medicare                     Y    2893.96   3450.19   \n",
       "22         Federal/State/Local/VA                     Y    1301.70   1729.54   \n",
       "23                       Medicare                     Y    3384.50   4244.32   \n",
       "...                           ...                   ...        ...       ...   \n",
       "1048557                  Medicaid                     Y   16889.91   4416.32   \n",
       "1048560  Private Health Insurance                     N   23618.91   4417.51   \n",
       "1048565                  Medicaid                     Y   17008.95   4445.48   \n",
       "1048568                  Medicare                     Y   42573.55   9196.49   \n",
       "1048572                  Medicaid                     Y  104629.78  24746.64   \n",
       "\n",
       "         ratio_of_total_costs_to_total_charges      Result  \n",
       "3                                     1.484167  Fraudulent  \n",
       "9                                     1.090095  Fraudulent  \n",
       "11                                    1.192205  Fraudulent  \n",
       "22                                    1.328677  Fraudulent  \n",
       "23                                    1.254045  Fraudulent  \n",
       "...                                        ...         ...  \n",
       "1048557                               0.261477  Fraudulent  \n",
       "1048560                               0.187033  Fraudulent  \n",
       "1048565                               0.261361  Fraudulent  \n",
       "1048568                               0.216014  Fraudulent  \n",
       "1048572                               0.236516  Fraudulent  \n",
       "\n",
       "[262168 rows x 21 columns]"
      ]
     },
     "execution_count": 197,
     "metadata": {},
     "output_type": "execute_result"
    }
   ],
   "source": [
    "Mediclaim.loc[Mediclaim[\"Result\"]==\"Fraudulent\"]"
   ]
  },
  {
   "cell_type": "code",
   "execution_count": 198,
   "metadata": {},
   "outputs": [
    {
     "data": {
      "text/html": [
       "<div>\n",
       "<style scoped>\n",
       "    .dataframe tbody tr th:only-of-type {\n",
       "        vertical-align: middle;\n",
       "    }\n",
       "\n",
       "    .dataframe tbody tr th {\n",
       "        vertical-align: top;\n",
       "    }\n",
       "\n",
       "    .dataframe thead th {\n",
       "        text-align: right;\n",
       "    }\n",
       "</style>\n",
       "<table border=\"1\" class=\"dataframe\">\n",
       "  <thead>\n",
       "    <tr style=\"text-align: right;\">\n",
       "      <th></th>\n",
       "      <th>Code_illness</th>\n",
       "      <th>Tot_charg</th>\n",
       "      <th>Tot_cost</th>\n",
       "      <th>ratio_of_total_costs_to_total_charges</th>\n",
       "    </tr>\n",
       "  </thead>\n",
       "  <tbody>\n",
       "    <tr>\n",
       "      <td>Code_illness</td>\n",
       "      <td>1.000000</td>\n",
       "      <td>0.291459</td>\n",
       "      <td>0.247437</td>\n",
       "      <td>-0.034142</td>\n",
       "    </tr>\n",
       "    <tr>\n",
       "      <td>Tot_charg</td>\n",
       "      <td>0.291459</td>\n",
       "      <td>1.000000</td>\n",
       "      <td>0.723150</td>\n",
       "      <td>-0.043201</td>\n",
       "    </tr>\n",
       "    <tr>\n",
       "      <td>Tot_cost</td>\n",
       "      <td>0.247437</td>\n",
       "      <td>0.723150</td>\n",
       "      <td>1.000000</td>\n",
       "      <td>0.421863</td>\n",
       "    </tr>\n",
       "    <tr>\n",
       "      <td>ratio_of_total_costs_to_total_charges</td>\n",
       "      <td>-0.034142</td>\n",
       "      <td>-0.043201</td>\n",
       "      <td>0.421863</td>\n",
       "      <td>1.000000</td>\n",
       "    </tr>\n",
       "  </tbody>\n",
       "</table>\n",
       "</div>"
      ],
      "text/plain": [
       "                                       Code_illness  Tot_charg  Tot_cost  \\\n",
       "Code_illness                               1.000000   0.291459  0.247437   \n",
       "Tot_charg                                  0.291459   1.000000  0.723150   \n",
       "Tot_cost                                   0.247437   0.723150  1.000000   \n",
       "ratio_of_total_costs_to_total_charges     -0.034142  -0.043201  0.421863   \n",
       "\n",
       "                                       ratio_of_total_costs_to_total_charges  \n",
       "Code_illness                                                       -0.034142  \n",
       "Tot_charg                                                          -0.043201  \n",
       "Tot_cost                                                            0.421863  \n",
       "ratio_of_total_costs_to_total_charges                               1.000000  "
      ]
     },
     "execution_count": 198,
     "metadata": {},
     "output_type": "execute_result"
    }
   ],
   "source": [
    "Mediclaim.corr()"
   ]
  },
  {
   "cell_type": "markdown",
   "metadata": {},
   "source": [
    "# Identification of Missing values"
   ]
  },
  {
   "cell_type": "code",
   "execution_count": 199,
   "metadata": {},
   "outputs": [
    {
     "data": {
      "text/plain": [
       "Hospital Name                             0\n",
       "Age                                       0\n",
       "Gender                                    0\n",
       "Cultural_group                            0\n",
       "Days_spend_hsptl                          0\n",
       "Admission_type                            0\n",
       "Home or self care,                        0\n",
       "ccs_diagnosis_description                 0\n",
       "ccs_procedure_description                 0\n",
       "apr_drg_description                       0\n",
       "apr_mdc_description                       0\n",
       "Code_illness                              0\n",
       "Description_illness                      42\n",
       "Mortality risk                           42\n",
       "Surg_Description                          0\n",
       "Payment_typology_1                        0\n",
       "Emergency dept_yes/No                     0\n",
       "Tot_charg                                 0\n",
       "Tot_cost                                  0\n",
       "ratio_of_total_costs_to_total_charges     0\n",
       "Result                                    0\n",
       "dtype: int64"
      ]
     },
     "execution_count": 199,
     "metadata": {},
     "output_type": "execute_result"
    }
   ],
   "source": [
    "Mediclaim.isnull().sum(axis=0)"
   ]
  },
  {
   "cell_type": "code",
   "execution_count": 200,
   "metadata": {},
   "outputs": [
    {
     "data": {
      "text/plain": [
       "0    Minor\n",
       "dtype: object"
      ]
     },
     "execution_count": 200,
     "metadata": {},
     "output_type": "execute_result"
    }
   ],
   "source": [
    "Mediclaim.Description_illness.mode()\n",
    "Mediclaim[\"Mortality risk\"].mode()"
   ]
  },
  {
   "cell_type": "code",
   "execution_count": 201,
   "metadata": {},
   "outputs": [],
   "source": [
    "Mediclaim['Description_illness'].fillna(\"Moderate\",inplace=True)"
   ]
  },
  {
   "cell_type": "code",
   "execution_count": 202,
   "metadata": {},
   "outputs": [],
   "source": [
    "Mediclaim['Mortality risk'].fillna(\"Minor\",inplace=True)"
   ]
  },
  {
   "cell_type": "code",
   "execution_count": 203,
   "metadata": {},
   "outputs": [
    {
     "data": {
      "text/plain": [
       "<matplotlib.axes._subplots.AxesSubplot at 0x25623506748>"
      ]
     },
     "execution_count": 203,
     "metadata": {},
     "output_type": "execute_result"
    },
    {
     "data": {
      "image/png": "[encoded data removed]",
      "text/plain": [
       "<Figure size 432x288 with 1 Axes>"
      ]
     },
     "metadata": {
      "needs_background": "light"
     },
     "output_type": "display_data"
    }
   ],
   "source": [
    "sns.heatmap(Mediclaim.isnull(),yticklabels=False,cbar=False,cmap='viridis')"
   ]
  },
  {
   "cell_type": "code",
   "execution_count": 204,
   "metadata": {},
   "outputs": [
    {
     "name": "stdout",
     "output_type": "stream",
     "text": [
      "Hospital Name                            0\n",
      "Age                                      0\n",
      "Gender                                   0\n",
      "Cultural_group                           0\n",
      "Days_spend_hsptl                         0\n",
      "Admission_type                           0\n",
      "Home or self care,                       0\n",
      "ccs_diagnosis_description                0\n",
      "ccs_procedure_description                0\n",
      "apr_drg_description                      0\n",
      "apr_mdc_description                      0\n",
      "Code_illness                             0\n",
      "Description_illness                      0\n",
      "Mortality risk                           0\n",
      "Surg_Description                         0\n",
      "Payment_typology_1                       0\n",
      "Emergency dept_yes/No                    0\n",
      "Tot_charg                                0\n",
      "Tot_cost                                 0\n",
      "ratio_of_total_costs_to_total_charges    0\n",
      "Result                                   0\n",
      "dtype: int64\n"
     ]
    }
   ],
   "source": [
    "print(Mediclaim.isnull().sum())"
   ]
  },
  {
   "cell_type": "code",
   "execution_count": 205,
   "metadata": {},
   "outputs": [
    {
     "data": {
      "text/html": [
       "<div>\n",
       "<style scoped>\n",
       "    .dataframe tbody tr th:only-of-type {\n",
       "        vertical-align: middle;\n",
       "    }\n",
       "\n",
       "    .dataframe tbody tr th {\n",
       "        vertical-align: top;\n",
       "    }\n",
       "\n",
       "    .dataframe thead th {\n",
       "        text-align: right;\n",
       "    }\n",
       "</style>\n",
       "<table border=\"1\" class=\"dataframe\">\n",
       "  <thead>\n",
       "    <tr style=\"text-align: right;\">\n",
       "      <th></th>\n",
       "      <th>Code_illness</th>\n",
       "      <th>Tot_charg</th>\n",
       "      <th>Tot_cost</th>\n",
       "      <th>ratio_of_total_costs_to_total_charges</th>\n",
       "    </tr>\n",
       "  </thead>\n",
       "  <tbody>\n",
       "    <tr>\n",
       "      <td>count</td>\n",
       "      <td>1.048575e+06</td>\n",
       "      <td>1.048575e+06</td>\n",
       "      <td>1.048575e+06</td>\n",
       "      <td>1.048575e+06</td>\n",
       "    </tr>\n",
       "    <tr>\n",
       "      <td>mean</td>\n",
       "      <td>2.051806e+00</td>\n",
       "      <td>2.708697e+04</td>\n",
       "      <td>1.046399e+04</td>\n",
       "      <td>4.565822e-01</td>\n",
       "    </tr>\n",
       "    <tr>\n",
       "      <td>std</td>\n",
       "      <td>9.145785e-01</td>\n",
       "      <td>5.487428e+04</td>\n",
       "      <td>2.230366e+04</td>\n",
       "      <td>8.029246e-01</td>\n",
       "    </tr>\n",
       "    <tr>\n",
       "      <td>min</td>\n",
       "      <td>0.000000e+00</td>\n",
       "      <td>3.100000e-01</td>\n",
       "      <td>1.000000e-01</td>\n",
       "      <td>3.312909e-02</td>\n",
       "    </tr>\n",
       "    <tr>\n",
       "      <td>25%</td>\n",
       "      <td>1.000000e+00</td>\n",
       "      <td>7.402500e+03</td>\n",
       "      <td>3.234570e+03</td>\n",
       "      <td>3.135802e-01</td>\n",
       "    </tr>\n",
       "    <tr>\n",
       "      <td>50%</td>\n",
       "      <td>2.000000e+00</td>\n",
       "      <td>1.458988e+04</td>\n",
       "      <td>5.928480e+03</td>\n",
       "      <td>4.091384e-01</td>\n",
       "    </tr>\n",
       "    <tr>\n",
       "      <td>75%</td>\n",
       "      <td>3.000000e+00</td>\n",
       "      <td>2.914547e+04</td>\n",
       "      <td>1.134317e+04</td>\n",
       "      <td>5.192548e-01</td>\n",
       "    </tr>\n",
       "    <tr>\n",
       "      <td>max</td>\n",
       "      <td>4.000000e+00</td>\n",
       "      <td>6.196974e+06</td>\n",
       "      <td>2.562478e+06</td>\n",
       "      <td>1.575596e+02</td>\n",
       "    </tr>\n",
       "  </tbody>\n",
       "</table>\n",
       "</div>"
      ],
      "text/plain": [
       "       Code_illness     Tot_charg      Tot_cost  \\\n",
       "count  1.048575e+06  1.048575e+06  1.048575e+06   \n",
       "mean   2.051806e+00  2.708697e+04  1.046399e+04   \n",
       "std    9.145785e-01  5.487428e+04  2.230366e+04   \n",
       "min    0.000000e+00  3.100000e-01  1.000000e-01   \n",
       "25%    1.000000e+00  7.402500e+03  3.234570e+03   \n",
       "50%    2.000000e+00  1.458988e+04  5.928480e+03   \n",
       "75%    3.000000e+00  2.914547e+04  1.134317e+04   \n",
       "max    4.000000e+00  6.196974e+06  2.562478e+06   \n",
       "\n",
       "       ratio_of_total_costs_to_total_charges  \n",
       "count                           1.048575e+06  \n",
       "mean                            4.565822e-01  \n",
       "std                             8.029246e-01  \n",
       "min                             3.312909e-02  \n",
       "25%                             3.135802e-01  \n",
       "50%                             4.091384e-01  \n",
       "75%                             5.192548e-01  \n",
       "max                             1.575596e+02  "
      ]
     },
     "execution_count": 205,
     "metadata": {},
     "output_type": "execute_result"
    }
   ],
   "source": [
    "Mediclaim.describe() #Summary Statistics"
   ]
  },
  {
   "cell_type": "code",
   "execution_count": 206,
   "metadata": {},
   "outputs": [
    {
     "name": "stdout",
     "output_type": "stream",
     "text": [
      "<class 'pandas.core.frame.DataFrame'>\n",
      "RangeIndex: 1048575 entries, 0 to 1048574\n",
      "Data columns (total 21 columns):\n",
      "Hospital Name                            1048575 non-null object\n",
      "Age                                      1048575 non-null object\n",
      "Gender                                   1048575 non-null object\n",
      "Cultural_group                           1048575 non-null object\n",
      "Days_spend_hsptl                         1048575 non-null object\n",
      "Admission_type                           1048575 non-null object\n",
      "Home or self care,                       1048575 non-null object\n",
      "ccs_diagnosis_description                1048575 non-null object\n",
      "ccs_procedure_description                1048575 non-null object\n",
      "apr_drg_description                      1048575 non-null object\n",
      "apr_mdc_description                      1048575 non-null object\n",
      "Code_illness                             1048575 non-null int64\n",
      "Description_illness                      1048575 non-null object\n",
      "Mortality risk                           1048575 non-null object\n",
      "Surg_Description                         1048575 non-null object\n",
      "Payment_typology_1                       1048575 non-null object\n",
      "Emergency dept_yes/No                    1048575 non-null object\n",
      "Tot_charg                                1048575 non-null float64\n",
      "Tot_cost                                 1048575 non-null float64\n",
      "ratio_of_total_costs_to_total_charges    1048575 non-null float64\n",
      "Result                                   1048575 non-null object\n",
      "dtypes: float64(3), int64(1), object(17)\n",
      "memory usage: 168.0+ MB\n"
     ]
    }
   ],
   "source": [
    "Mediclaim.info()"
   ]
  },
  {
   "cell_type": "markdown",
   "metadata": {},
   "source": [
    "# Identification of outliers using Z-Score"
   ]
  },
  {
   "cell_type": "code",
   "execution_count": 207,
   "metadata": {},
   "outputs": [],
   "source": [
    "outliers=[]"
   ]
  },
  {
   "cell_type": "code",
   "execution_count": 208,
   "metadata": {},
   "outputs": [],
   "source": [
    "def detect_outliers(data):\n",
    "    \n",
    "    threshold=3\n",
    "    mean=np.mean(data)\n",
    "    std=np.std(data)\n",
    "    \n",
    "    for i in data:\n",
    "        z_score=(i-mean)/std\n",
    "        if np.abs(z_score) > threshold:\n",
    "            outliers.append(i)\n",
    "    return outliers"
   ]
  },
  {
   "cell_type": "code",
   "execution_count": 209,
   "metadata": {},
   "outputs": [
    {
     "name": "stdout",
     "output_type": "stream",
     "text": [
      "12140\n"
     ]
    }
   ],
   "source": [
    "print(len(detect_outliers(Mediclaim[\"Tot_charg\"]))) #12140"
   ]
  },
  {
   "cell_type": "code",
   "execution_count": 210,
   "metadata": {},
   "outputs": [
    {
     "data": {
      "text/plain": [
       "21994"
      ]
     },
     "execution_count": 210,
     "metadata": {},
     "output_type": "execute_result"
    }
   ],
   "source": [
    "len(detect_outliers(Mediclaim[\"Tot_cost\"])) #21994"
   ]
  },
  {
   "cell_type": "code",
   "execution_count": 211,
   "metadata": {},
   "outputs": [
    {
     "data": {
      "text/plain": [
       "22551"
      ]
     },
     "execution_count": 211,
     "metadata": {},
     "output_type": "execute_result"
    }
   ],
   "source": [
    "len(detect_outliers(Mediclaim['ratio_of_total_costs_to_total_charges'])) #22551"
   ]
  },
  {
   "cell_type": "markdown",
   "metadata": {},
   "source": [
    "# Countplot Visualization of Target Variable"
   ]
  },
  {
   "cell_type": "code",
   "execution_count": 212,
   "metadata": {},
   "outputs": [
    {
     "data": {
      "text/plain": [
       "<matplotlib.axes._subplots.AxesSubplot at 0x2561c1f67c8>"
      ]
     },
     "execution_count": 212,
     "metadata": {},
     "output_type": "execute_result"
    },
    {
     "data": {
      "image/png": "[encoded data removed]",
      "text/plain": [
       "<Figure size 432x288 with 1 Axes>"
      ]
     },
     "metadata": {},
     "output_type": "display_data"
    }
   ],
   "source": [
    "sns.set_style('whitegrid')\n",
    "sns.countplot(x='Result',data=Mediclaim)"
   ]
  },
  {
   "cell_type": "markdown",
   "metadata": {},
   "source": [
    "### From the above plot,it is clearly visible that the proportion of the claims that are genuine are more than the fraudulent claims. ###"
   ]
  },
  {
   "cell_type": "markdown",
   "metadata": {},
   "source": [
    "# Univariate Analysis of Tot_charg"
   ]
  },
  {
   "cell_type": "markdown",
   "metadata": {},
   "source": [
    "# First Moment Business Decision/ Measures of Central Tendency"
   ]
  },
  {
   "cell_type": "code",
   "execution_count": 177,
   "metadata": {
    "collapsed": true
   },
   "outputs": [
    {
     "data": {
      "text/plain": [
       "0    3052.0\n",
       "dtype: float64"
      ]
     },
     "execution_count": 177,
     "metadata": {},
     "output_type": "execute_result"
    }
   ],
   "source": [
    "Mediclaim.Tot_charg.mean() #3052\n",
    "Mediclaim.Tot_charg.median() #14589.88\n",
    "Mediclaim.Tot_charg.mode() #3052"
   ]
  },
  {
   "cell_type": "markdown",
   "metadata": {},
   "source": [
    "# Second Moment Business Decision/ Measures of Dispersion"
   ]
  },
  {
   "cell_type": "code",
   "execution_count": 178,
   "metadata": {
    "collapsed": true
   },
   "outputs": [
    {
     "name": "stdout",
     "output_type": "stream",
     "text": [
      "6196973.19\n"
     ]
    },
    {
     "data": {
      "text/plain": [
       "54874.25393285363"
      ]
     },
     "execution_count": 178,
     "metadata": {},
     "output_type": "execute_result"
    }
   ],
   "source": [
    "Mediclaim.Tot_charg.max() #6196973.5\n",
    "Mediclaim.Tot_charg.min() #0.31\n",
    "Range= Mediclaim.Tot_charg.max()-Mediclaim.Tot_charg.min()\n",
    "print(Range) #6196973.19\n",
    "np.var(Mediclaim[\"Tot_charg\"]) #3011183744.69\n",
    "np.std(Mediclaim[\"Tot_charg\"]) #54874.25"
   ]
  },
  {
   "cell_type": "markdown",
   "metadata": {},
   "source": [
    "# Third Moment Business Decision\n",
    "#As a general thumbrule, if the skewness is <-1 or >1, then the distribution is highly skewed\n",
    "#If the skewness is between -1 to -0.5 or 0.5 to 1, then the distribution is moderately skewed\n",
    "#If the skewness is between -0.5 and 0.5, then the distribution is approximately symmetric"
   ]
  },
  {
   "cell_type": "code",
   "execution_count": 215,
   "metadata": {},
   "outputs": [
    {
     "data": {
      "text/plain": [
       "18.097526908083523"
      ]
     },
     "execution_count": 215,
     "metadata": {},
     "output_type": "execute_result"
    }
   ],
   "source": [
    "Mediclaim[\"Tot_charg\"].skew() #18.1 (Highly Skewed)"
   ]
  },
  {
   "cell_type": "markdown",
   "metadata": {},
   "source": [
    "# Fourth Moment Business Decision\n",
    "#Normal distribution for kurtosis is 3\n",
    "#Kurtosis value greater than 3, leptokurtic\n",
    "#Kurtosis value between 1 and 3, platykurtic"
   ]
  },
  {
   "cell_type": "code",
   "execution_count": 214,
   "metadata": {},
   "outputs": [
    {
     "data": {
      "text/plain": [
       "775.1671399311822"
      ]
     },
     "execution_count": 214,
     "metadata": {},
     "output_type": "execute_result"
    }
   ],
   "source": [
    "Mediclaim[\"Tot_charg\"].kurt() #775.17 (Leptokurtic)"
   ]
  },
  {
   "cell_type": "markdown",
   "metadata": {},
   "source": [
    "# Graphical Visualization"
   ]
  },
  {
   "cell_type": "markdown",
   "metadata": {},
   "source": [
    "# Histogram of Tot_charg"
   ]
  },
  {
   "cell_type": "code",
   "execution_count": 213,
   "metadata": {},
   "outputs": [
    {
     "data": {
      "text/plain": [
       "(array([1.047354e+06, 9.890000e+02, 1.500000e+02, 4.800000e+01,\n",
       "        2.000000e+01, 8.000000e+00, 4.000000e+00, 0.000000e+00,\n",
       "        1.000000e+00, 1.000000e+00]),\n",
       " array([3.10000000e-01, 6.19697629e+05, 1.23939495e+06, 1.85909227e+06,\n",
       "        2.47878959e+06, 3.09848691e+06, 3.71818422e+06, 4.33788154e+06,\n",
       "        4.95757886e+06, 5.57727618e+06, 6.19697350e+06]),\n",
       " <a list of 10 Patch objects>)"
      ]
     },
     "execution_count": 213,
     "metadata": {},
     "output_type": "execute_result"
    },
    {
     "data": {
      "image/png": "[encoded data removed]",
      "text/plain": [
       "<Figure size 432x288 with 1 Axes>"
      ]
     },
     "metadata": {},
     "output_type": "display_data"
    }
   ],
   "source": [
    "plt.hist(Mediclaim[\"Tot_charg\"])"
   ]
  },
  {
   "cell_type": "markdown",
   "metadata": {},
   "source": [
    "# Boxplot of Tot_charg"
   ]
  },
  {
   "cell_type": "code",
   "execution_count": 216,
   "metadata": {},
   "outputs": [
    {
     "data": {
      "text/plain": [
       "{'whiskers': [<matplotlib.lines.Line2D at 0x2561c8085c8>,\n",
       "  <matplotlib.lines.Line2D at 0x2561c80a288>],\n",
       " 'caps': [<matplotlib.lines.Line2D at 0x25629504348>,\n",
       "  <matplotlib.lines.Line2D at 0x25625697488>],\n",
       " 'boxes': [<matplotlib.lines.Line2D at 0x2561c8081c8>],\n",
       " 'medians': [<matplotlib.lines.Line2D at 0x25623654188>],\n",
       " 'fliers': [<matplotlib.lines.Line2D at 0x2561d1e8308>],\n",
       " 'means': []}"
      ]
     },
     "execution_count": 216,
     "metadata": {},
     "output_type": "execute_result"
    },
    {
     "data": {
      "image/png": "[encoded data removed]",
      "text/plain": [
       "<Figure size 432x288 with 1 Axes>"
      ]
     },
     "metadata": {},
     "output_type": "display_data"
    }
   ],
   "source": [
    "plt.boxplot(Mediclaim[\"Tot_charg\"], vert=0)"
   ]
  },
  {
   "cell_type": "markdown",
   "metadata": {},
   "source": [
    "# Univariate Analysis of Tot_cost"
   ]
  },
  {
   "cell_type": "markdown",
   "metadata": {},
   "source": [
    "# First Moment Business Decision/ Measures of Central Tendency"
   ]
  },
  {
   "cell_type": "code",
   "execution_count": 183,
   "metadata": {
    "collapsed": true
   },
   "outputs": [
    {
     "data": {
      "text/plain": [
       "0    1208.47\n",
       "dtype: float64"
      ]
     },
     "execution_count": 183,
     "metadata": {},
     "output_type": "execute_result"
    }
   ],
   "source": [
    "Mediclaim.Tot_cost.mean() #10463.99\n",
    "Mediclaim.Tot_cost.median() #5928.48\n",
    "Mediclaim.Tot_cost.mode() #1208.47"
   ]
  },
  {
   "cell_type": "markdown",
   "metadata": {},
   "source": [
    "# Second Moment Business Decision/ Measures of Dispersion"
   ]
  },
  {
   "cell_type": "code",
   "execution_count": 184,
   "metadata": {
    "collapsed": true
   },
   "outputs": [
    {
     "name": "stdout",
     "output_type": "stream",
     "text": [
      "2562477.56\n"
     ]
    },
    {
     "data": {
      "text/plain": [
       "22303.645355094985"
      ]
     },
     "execution_count": 184,
     "metadata": {},
     "output_type": "execute_result"
    }
   ],
   "source": [
    "Mediclaim.Tot_cost.max() #2562477.66\n",
    "Mediclaim.Tot_cost.min() #0.1\n",
    "Range= Mediclaim.Tot_cost.max()-Mediclaim.Tot_cost.min()\n",
    "print(Range) #2562477.56\n",
    "np.var(Mediclaim[\"Tot_cost\"]) #497452596.13\n",
    "np.std(Mediclaim[\"Tot_cost\"]) #22303.65"
   ]
  },
  {
   "cell_type": "markdown",
   "metadata": {},
   "source": [
    "# Third Moment Business Decision\n",
    "#As a general thumbrule, if the skewness is <-1 or >1, then the distribution is highly skewed\n",
    "#If the skewness is between -1 to -0.5 or 0.5 to 1, then the distribution is moderately skewed\n",
    "#If the skewness is between -0.5 and 0.5, then the distribution is approximately symmetric"
   ]
  },
  {
   "cell_type": "code",
   "execution_count": 185,
   "metadata": {},
   "outputs": [
    {
     "data": {
      "text/plain": [
       "27.58967835150612"
      ]
     },
     "execution_count": 185,
     "metadata": {},
     "output_type": "execute_result"
    }
   ],
   "source": [
    "Mediclaim[\"Tot_cost\"].skew() #27.59 (Highly Skewed)"
   ]
  },
  {
   "cell_type": "markdown",
   "metadata": {},
   "source": [
    "# Fourth Moment Business Decision\n",
    "#Normal distribution for kurtosis is 3\n",
    "#Kurtosis value greater than 3, leptokurtic\n",
    "#Kurtosis value between 1 and 3, platykurtic"
   ]
  },
  {
   "cell_type": "code",
   "execution_count": 186,
   "metadata": {},
   "outputs": [
    {
     "data": {
      "text/plain": [
       "1585.2266562335903"
      ]
     },
     "execution_count": 186,
     "metadata": {},
     "output_type": "execute_result"
    }
   ],
   "source": [
    "Mediclaim[\"Tot_cost\"].kurt() #1585.23 (Leptokurtic)"
   ]
  },
  {
   "cell_type": "markdown",
   "metadata": {},
   "source": [
    "# Graphical Visualization"
   ]
  },
  {
   "cell_type": "markdown",
   "metadata": {},
   "source": [
    "# Histogram of Tot_cost"
   ]
  },
  {
   "cell_type": "code",
   "execution_count": 217,
   "metadata": {},
   "outputs": [
    {
     "data": {
      "text/plain": [
       "(array([1.047711e+06, 6.120000e+02, 1.330000e+02, 5.700000e+01,\n",
       "        2.600000e+01, 1.900000e+01, 1.100000e+01, 2.000000e+00,\n",
       "        2.000000e+00, 2.000000e+00]),\n",
       " array([1.00000000e-01, 2.56247856e+05, 5.12495612e+05, 7.68743368e+05,\n",
       "        1.02499112e+06, 1.28123888e+06, 1.53748664e+06, 1.79373439e+06,\n",
       "        2.04998215e+06, 2.30622990e+06, 2.56247766e+06]),\n",
       " <a list of 10 Patch objects>)"
      ]
     },
     "execution_count": 217,
     "metadata": {},
     "output_type": "execute_result"
    },
    {
     "data": {
      "image/png": "[encoded data removed]",
      "text/plain": [
       "<Figure size 432x288 with 1 Axes>"
      ]
     },
     "metadata": {},
     "output_type": "display_data"
    }
   ],
   "source": [
    "plt.hist(Mediclaim[\"Tot_cost\"])"
   ]
  },
  {
   "cell_type": "markdown",
   "metadata": {},
   "source": [
    "# Boxplot of Tot_cost"
   ]
  },
  {
   "cell_type": "code",
   "execution_count": 218,
   "metadata": {},
   "outputs": [
    {
     "data": {
      "text/plain": [
       "{'whiskers': [<matplotlib.lines.Line2D at 0x256850c77c8>,\n",
       "  <matplotlib.lines.Line2D at 0x256850c7ec8>],\n",
       " 'caps': [<matplotlib.lines.Line2D at 0x256850c7f08>,\n",
       "  <matplotlib.lines.Line2D at 0x2561c933e08>],\n",
       " 'boxes': [<matplotlib.lines.Line2D at 0x2561c9252c8>],\n",
       " 'medians': [<matplotlib.lines.Line2D at 0x2561c9337c8>],\n",
       " 'fliers': [<matplotlib.lines.Line2D at 0x2561c8bed88>],\n",
       " 'means': []}"
      ]
     },
     "execution_count": 218,
     "metadata": {},
     "output_type": "execute_result"
    },
    {
     "data": {
      "image/png": "[encoded data removed]",
      "text/plain": [
       "<Figure size 432x288 with 1 Axes>"
      ]
     },
     "metadata": {},
     "output_type": "display_data"
    }
   ],
   "source": [
    "plt.boxplot(Mediclaim[\"Tot_cost\"], vert=0)"
   ]
  },
  {
   "cell_type": "markdown",
   "metadata": {},
   "source": [
    "# Univariate Analysis of ratio_of_total_costs_to_total_charges"
   ]
  },
  {
   "cell_type": "markdown",
   "metadata": {},
   "source": [
    "# First Moment Business Decision/ Measures of Central Tendency"
   ]
  },
  {
   "cell_type": "code",
   "execution_count": 189,
   "metadata": {
    "collapsed": true
   },
   "outputs": [
    {
     "data": {
      "text/plain": [
       "0    0.827984\n",
       "dtype: float64"
      ]
     },
     "execution_count": 189,
     "metadata": {},
     "output_type": "execute_result"
    }
   ],
   "source": [
    "Mediclaim.ratio_of_total_costs_to_total_charges.mean() #0.46\n",
    "Mediclaim.ratio_of_total_costs_to_total_charges.median() #0.41\n",
    "Mediclaim.ratio_of_total_costs_to_total_charges.mode() #0.83"
   ]
  },
  {
   "cell_type": "markdown",
   "metadata": {},
   "source": [
    "# Second Moment Business Decision/ Measures of Dispersion"
   ]
  },
  {
   "cell_type": "code",
   "execution_count": 190,
   "metadata": {
    "collapsed": true
   },
   "outputs": [
    {
     "name": "stdout",
     "output_type": "stream",
     "text": [
      "157.52648011\n"
     ]
    },
    {
     "data": {
      "text/plain": [
       "0.8029242430511975"
      ]
     },
     "execution_count": 190,
     "metadata": {},
     "output_type": "execute_result"
    }
   ],
   "source": [
    "Mediclaim.ratio_of_total_costs_to_total_charges.max() #157.56\n",
    "Mediclaim.ratio_of_total_costs_to_total_charges.min() #0.033\n",
    "Range= Mediclaim.ratio_of_total_costs_to_total_charges.max()-Mediclaim.ratio_of_total_costs_to_total_charges.min()\n",
    "print(Range) #157.53\n",
    "np.var(Mediclaim[\"ratio_of_total_costs_to_total_charges\"]) #0.645\n",
    "np.std(Mediclaim[\"ratio_of_total_costs_to_total_charges\"]) #0.802"
   ]
  },
  {
   "cell_type": "markdown",
   "metadata": {},
   "source": [
    "# Third Moment Business Decision\n",
    "#As a general thumbrule, if the skewness is <-1 or >1, then the distribution is highly skewed\n",
    "#If the skewness is between -1 to -0.5 or 0.5 to 1, then the distribution is moderately skewed\n",
    "#If the skewness is between -0.5 and 0.5, then the distribution is approximately symmetric"
   ]
  },
  {
   "cell_type": "code",
   "execution_count": 219,
   "metadata": {},
   "outputs": [
    {
     "data": {
      "text/plain": [
       "95.88300639497649"
      ]
     },
     "execution_count": 219,
     "metadata": {},
     "output_type": "execute_result"
    }
   ],
   "source": [
    "Mediclaim[\"ratio_of_total_costs_to_total_charges\"].skew() #95.88 (Highly Skewed)"
   ]
  },
  {
   "cell_type": "markdown",
   "metadata": {},
   "source": [
    "# Fourth Moment Business Decision\n",
    "#Normal distribution for kurtosis is 3\n",
    "#Kurtosis value greater than 3, leptokurtic\n",
    "#Kurtosis value between 1 and 3, platykurtic"
   ]
  },
  {
   "cell_type": "code",
   "execution_count": 220,
   "metadata": {},
   "outputs": [
    {
     "data": {
      "text/plain": [
       "11789.037973247312"
      ]
     },
     "execution_count": 220,
     "metadata": {},
     "output_type": "execute_result"
    }
   ],
   "source": [
    "Mediclaim[\"ratio_of_total_costs_to_total_charges\"].kurt() #11789.04 (Leptokurtic)"
   ]
  },
  {
   "cell_type": "markdown",
   "metadata": {},
   "source": [
    "# Graphical Visualization"
   ]
  },
  {
   "cell_type": "markdown",
   "metadata": {},
   "source": [
    "# Histogram of ratio_of_total_costs_to_total_charges"
   ]
  },
  {
   "cell_type": "code",
   "execution_count": 221,
   "metadata": {},
   "outputs": [
    {
     "data": {
      "text/plain": [
       "(array([1.048414e+06, 2.700000e+01, 4.800000e+01, 3.300000e+01,\n",
       "        2.900000e+01, 8.000000e+00, 6.000000e+00, 6.000000e+00,\n",
       "        1.000000e+00, 3.000000e+00]),\n",
       " array([3.31290900e-02, 1.57857771e+01, 3.15384251e+01, 4.72910731e+01,\n",
       "        6.30437211e+01, 7.87963691e+01, 9.45490172e+01, 1.10301665e+02,\n",
       "        1.26054313e+02, 1.41806961e+02, 1.57559609e+02]),\n",
       " <a list of 10 Patch objects>)"
      ]
     },
     "execution_count": 221,
     "metadata": {},
     "output_type": "execute_result"
    },
    {
     "data": {
      "image/png": "[encoded data removed]",
      "text/plain": [
       "<Figure size 432x288 with 1 Axes>"
      ]
     },
     "metadata": {},
     "output_type": "display_data"
    }
   ],
   "source": [
    "plt.hist(Mediclaim[\"ratio_of_total_costs_to_total_charges\"])"
   ]
  },
  {
   "cell_type": "markdown",
   "metadata": {},
   "source": [
    "# Boxplot of ratio_of_total_costs_to_total_charges"
   ]
  },
  {
   "cell_type": "code",
   "execution_count": 222,
   "metadata": {},
   "outputs": [
    {
     "data": {
      "text/plain": [
       "{'whiskers': [<matplotlib.lines.Line2D at 0x256236ace88>,\n",
       "  <matplotlib.lines.Line2D at 0x256236acfc8>],\n",
       " 'caps': [<matplotlib.lines.Line2D at 0x256236affc8>,\n",
       "  <matplotlib.lines.Line2D at 0x256236aff88>],\n",
       " 'boxes': [<matplotlib.lines.Line2D at 0x256236ac608>],\n",
       " 'medians': [<matplotlib.lines.Line2D at 0x256236b2f88>],\n",
       " 'fliers': [<matplotlib.lines.Line2D at 0x256236b2f08>],\n",
       " 'means': []}"
      ]
     },
     "execution_count": 222,
     "metadata": {},
     "output_type": "execute_result"
    },
    {
     "data": {
      "image/png": "[encoded data removed]",
      "text/plain": [
       "<Figure size 432x288 with 1 Axes>"
      ]
     },
     "metadata": {},
     "output_type": "display_data"
    }
   ],
   "source": [
    "plt.boxplot(Mediclaim[\"ratio_of_total_costs_to_total_charges\"], vert=0)"
   ]
  },
  {
   "cell_type": "markdown",
   "metadata": {},
   "source": [
    "# Visualization of categorical variables"
   ]
  },
  {
   "cell_type": "code",
   "execution_count": 223,
   "metadata": {},
   "outputs": [],
   "source": [
    "def plot_bar(Mediclaim, cols):\n",
    "    for col in cols:\n",
    "        fig= plt.figure(figsize=(8,8))\n",
    "        ax= fig.gca() #Defining axis\n",
    "        count= Mediclaim[col].value_counts()\n",
    "        count.plot.bar(ax=ax, color='red')\n",
    "        ax.set_title('Bar plot of '+ col)\n",
    "        ax.set_xlabel(col)\n",
    "        ax.set_ylabel('Counts')\n",
    "        plt.show()\n",
    "        "
   ]
  },
  {
   "cell_type": "code",
   "execution_count": 224,
   "metadata": {},
   "outputs": [
    {
     "data": {
      "image/png": "[encoded data removed]",
      "text/plain": [
       "<Figure size 576x576 with 1 Axes>"
      ]
     },
     "metadata": {},
     "output_type": "display_data"
    },
    {
     "data": {
      "image/png": "[encoded data removed]",
      "text/plain": [
       "<Figure size 576x576 with 1 Axes>"
      ]
     },
     "metadata": {},
     "output_type": "display_data"
    },
    {
     "data": {
      "image/png": "[encoded data removed]",
      "text/plain": [
       "<Figure size 576x576 with 1 Axes>"
      ]
     },
     "metadata": {},
     "output_type": "display_data"
    },
    {
     "data": {
      "image/png": "[encoded data removed]",
      "text/plain": [
       "<Figure size 576x576 with 1 Axes>"
      ]
     },
     "metadata": {},
     "output_type": "display_data"
    }
   ],
   "source": [
    "plot_cols=['Admission_type','Emergency dept_yes/No','Age','Gender']\n",
    "plot_bar(Mediclaim,plot_cols)"
   ]
  },
  {
   "cell_type": "code",
   "execution_count": 225,
   "metadata": {},
   "outputs": [
    {
     "data": {
      "text/plain": [
       "<matplotlib.axes._subplots.AxesSubplot at 0x25622d8b948>"
      ]
     },
     "execution_count": 225,
     "metadata": {},
     "output_type": "execute_result"
    },
    {
     "data": {
      "image/png": "[encoded data removed]",
      "text/plain": [
       "<Figure size 432x288 with 1 Axes>"
      ]
     },
     "metadata": {},
     "output_type": "display_data"
    }
   ],
   "source": [
    "sns.set_style('whitegrid')\n",
    "sns.countplot(x='Admission_type',data=Mediclaim)"
   ]
  },
  {
   "cell_type": "code",
   "execution_count": 226,
   "metadata": {},
   "outputs": [
    {
     "data": {
      "text/plain": [
       "<matplotlib.axes._subplots.AxesSubplot at 0x25622f6cac8>"
      ]
     },
     "execution_count": 226,
     "metadata": {},
     "output_type": "execute_result"
    },
    {
     "data": {
      "image/png": "[encoded data removed]",
      "text/plain": [
       "<Figure size 432x288 with 1 Axes>"
      ]
     },
     "metadata": {},
     "output_type": "display_data"
    }
   ],
   "source": [
    "sns.set_style('whitegrid')\n",
    "sns.countplot(x='Emergency dept_yes/No',data=Mediclaim)"
   ]
  },
  {
   "cell_type": "code",
   "execution_count": 227,
   "metadata": {},
   "outputs": [
    {
     "data": {
      "text/plain": [
       "<matplotlib.axes._subplots.AxesSubplot at 0x25622fc35c8>"
      ]
     },
     "execution_count": 227,
     "metadata": {},
     "output_type": "execute_result"
    },
    {
     "data": {
      "image/png": "[encoded data removed]",
      "text/plain": [
       "<Figure size 432x288 with 1 Axes>"
      ]
     },
     "metadata": {},
     "output_type": "display_data"
    }
   ],
   "source": [
    "sns.set_style('whitegrid')\n",
    "sns.countplot(x='Age',data=Mediclaim)"
   ]
  },
  {
   "cell_type": "markdown",
   "metadata": {},
   "source": [
    "# Bivariate Analysis"
   ]
  },
  {
   "cell_type": "code",
   "execution_count": 228,
   "metadata": {},
   "outputs": [
    {
     "data": {
      "text/plain": [
       "<matplotlib.axes._subplots.AxesSubplot at 0x256230260c8>"
      ]
     },
     "execution_count": 228,
     "metadata": {},
     "output_type": "execute_result"
    },
    {
     "data": {
      "image/png": "[encoded data removed]",
      "text/plain": [
       "<Figure size 432x288 with 1 Axes>"
      ]
     },
     "metadata": {},
     "output_type": "display_data"
    }
   ],
   "source": [
    "sns.set_style('whitegrid')\n",
    "sns.countplot(x='Result', hue='Gender',data=Mediclaim)"
   ]
  },
  {
   "cell_type": "markdown",
   "metadata": {},
   "source": [
    "### From the above plot, it can be inferred that the proportion of both genuine as well as fraudulent claims made by the female population is higher than male population ###"
   ]
  },
  {
   "cell_type": "code",
   "execution_count": 229,
   "metadata": {},
   "outputs": [
    {
     "data": {
      "text/plain": [
       "<matplotlib.axes._subplots.AxesSubplot at 0x256238154c8>"
      ]
     },
     "execution_count": 229,
     "metadata": {},
     "output_type": "execute_result"
    },
    {
     "data": {
      "image/png": "[encoded data removed]",
      "text/plain": [
       "<Figure size 576x360 with 1 Axes>"
      ]
     },
     "metadata": {},
     "output_type": "display_data"
    }
   ],
   "source": [
    "plt.figure(figsize=(8, 5))\n",
    "sns.set_style('whitegrid')\n",
    "sns.countplot(x='Result',hue='Payment_typology_1',data=Mediclaim)"
   ]
  },
  {
   "cell_type": "code",
   "execution_count": 230,
   "metadata": {},
   "outputs": [
    {
     "data": {
      "text/plain": [
       "<matplotlib.axes._subplots.AxesSubplot at 0x256238c2dc8>"
      ]
     },
     "execution_count": 230,
     "metadata": {},
     "output_type": "execute_result"
    },
    {
     "data": {
      "image/png": "[encoded data removed]",
      "text/plain": [
       "<Figure size 432x288 with 1 Axes>"
      ]
     },
     "metadata": {},
     "output_type": "display_data"
    }
   ],
   "source": [
    "sns.set_style('whitegrid')\n",
    "sns.countplot(x='Result',hue='Age',data=Mediclaim)"
   ]
  },
  {
   "cell_type": "markdown",
   "metadata": {},
   "source": [
    "### Inference that can be drawn is that people aged 70 or Older are the ones making the highest claims that are genuine and at the same time making most fraudulent claims as well when compared to other age groups ###"
   ]
  },
  {
   "cell_type": "markdown",
   "metadata": {},
   "source": [
    "# Building Decision Tree Model"
   ]
  },
  {
   "cell_type": "code",
   "execution_count": 231,
   "metadata": {},
   "outputs": [],
   "source": [
    "from sklearn.preprocessing import LabelEncoder\n",
    "lb_make= LabelEncoder()\n",
    "Mediclaim['Hospital Name']= lb_make.fit_transform(Mediclaim['Hospital Name'])\n",
    "Mediclaim['Age']=lb_make.fit_transform(Mediclaim['Age'])\n",
    "Mediclaim['Gender']=lb_make.fit_transform(Mediclaim['Gender'])\n",
    "Mediclaim['Cultural_group']=lb_make.fit_transform(Mediclaim['Cultural_group'])\n",
    "Mediclaim['Admission_type']=lb_make.fit_transform(Mediclaim['Admission_type'])\n",
    "Mediclaim['Home or self care,']=lb_make.fit_transform(Mediclaim['Home or self care,'])\n",
    "Mediclaim['ccs_diagnosis_description']=lb_make.fit_transform(Mediclaim['ccs_diagnosis_description'])\n",
    "Mediclaim['ccs_procedure_description']=lb_make.fit_transform(Mediclaim['ccs_procedure_description'])\n",
    "Mediclaim['apr_drg_description']=lb_make.fit_transform(Mediclaim['apr_drg_description'])\n",
    "Mediclaim['apr_mdc_description']=lb_make.fit_transform(Mediclaim['apr_mdc_description'])\n",
    "Mediclaim['Description_illness']=lb_make.fit_transform(Mediclaim['Description_illness'])\n",
    "Mediclaim['Mortality risk']=lb_make.fit_transform(Mediclaim['Mortality risk'])\n",
    "Mediclaim['Surg_Description']=lb_make.fit_transform(Mediclaim['Surg_Description'])\n",
    "Mediclaim['Payment_typology_1']=lb_make.fit_transform(Mediclaim['Payment_typology_1'])\n",
    "Mediclaim['Days_spend_hsptl']=lb_make.fit_transform(Mediclaim['Days_spend_hsptl'])\n",
    "Mediclaim['Emergency dept_yes/No']=lb_make.fit_transform(Mediclaim['Emergency dept_yes/No'])\n",
    "Mediclaim['Result']=lb_make.fit_transform(Mediclaim['Result'])"
   ]
  },
  {
   "cell_type": "code",
   "execution_count": 232,
   "metadata": {},
   "outputs": [
    {
     "data": {
      "text/plain": [
       "(1048575, 21)"
      ]
     },
     "execution_count": 232,
     "metadata": {},
     "output_type": "execute_result"
    }
   ],
   "source": [
    "Mediclaim.shape"
   ]
  },
  {
   "cell_type": "code",
   "execution_count": 233,
   "metadata": {},
   "outputs": [
    {
     "data": {
      "text/plain": [
       "array([1, 0], dtype=int64)"
      ]
     },
     "execution_count": 233,
     "metadata": {},
     "output_type": "execute_result"
    }
   ],
   "source": [
    "Mediclaim['Result'].unique()"
   ]
  },
  {
   "cell_type": "code",
   "execution_count": 234,
   "metadata": {},
   "outputs": [
    {
     "data": {
      "text/plain": [
       "1    786407\n",
       "0    262168\n",
       "Name: Result, dtype: int64"
      ]
     },
     "execution_count": 234,
     "metadata": {},
     "output_type": "execute_result"
    }
   ],
   "source": [
    "Mediclaim['Result'].value_counts()"
   ]
  },
  {
   "cell_type": "code",
   "execution_count": 235,
   "metadata": {},
   "outputs": [
    {
     "data": {
      "text/plain": [
       "['Hospital Name',\n",
       " 'Age',\n",
       " 'Gender',\n",
       " 'Cultural_group',\n",
       " 'Days_spend_hsptl',\n",
       " 'Admission_type',\n",
       " 'Home or self care,',\n",
       " 'ccs_diagnosis_description',\n",
       " 'ccs_procedure_description',\n",
       " 'apr_drg_description',\n",
       " 'apr_mdc_description',\n",
       " 'Code_illness',\n",
       " 'Description_illness',\n",
       " 'Mortality risk',\n",
       " 'Surg_Description',\n",
       " 'Payment_typology_1',\n",
       " 'Emergency dept_yes/No',\n",
       " 'Tot_charg',\n",
       " 'Tot_cost',\n",
       " 'ratio_of_total_costs_to_total_charges',\n",
       " 'Result']"
      ]
     },
     "execution_count": 235,
     "metadata": {},
     "output_type": "execute_result"
    }
   ],
   "source": [
    "colnames= list(Mediclaim.columns)\n",
    "colnames"
   ]
  },
  {
   "cell_type": "code",
   "execution_count": 236,
   "metadata": {},
   "outputs": [
    {
     "data": {
      "text/plain": [
       "['Hospital Name',\n",
       " 'Age',\n",
       " 'Gender',\n",
       " 'Cultural_group',\n",
       " 'Days_spend_hsptl',\n",
       " 'Admission_type',\n",
       " 'Home or self care,',\n",
       " 'ccs_diagnosis_description',\n",
       " 'ccs_procedure_description',\n",
       " 'apr_drg_description',\n",
       " 'apr_mdc_description',\n",
       " 'Code_illness',\n",
       " 'Description_illness',\n",
       " 'Mortality risk',\n",
       " 'Surg_Description',\n",
       " 'Payment_typology_1',\n",
       " 'Emergency dept_yes/No',\n",
       " 'Tot_charg',\n",
       " 'Tot_cost',\n",
       " 'ratio_of_total_costs_to_total_charges']"
      ]
     },
     "execution_count": 236,
     "metadata": {},
     "output_type": "execute_result"
    }
   ],
   "source": [
    "predictors= colnames[:20]\n",
    "predictors"
   ]
  },
  {
   "cell_type": "code",
   "execution_count": 237,
   "metadata": {},
   "outputs": [
    {
     "data": {
      "text/plain": [
       "'Result'"
      ]
     },
     "execution_count": 237,
     "metadata": {},
     "output_type": "execute_result"
    }
   ],
   "source": [
    "target=colnames[20]\n",
    "target"
   ]
  },
  {
   "cell_type": "code",
   "execution_count": 238,
   "metadata": {},
   "outputs": [],
   "source": [
    "from sklearn.model_selection import train_test_split\n",
    "train,test= train_test_split(Mediclaim, test_size=0.3)"
   ]
  },
  {
   "cell_type": "code",
   "execution_count": 239,
   "metadata": {},
   "outputs": [],
   "source": [
    "from sklearn.tree import DecisionTreeClassifier"
   ]
  },
  {
   "cell_type": "code",
   "execution_count": 240,
   "metadata": {},
   "outputs": [],
   "source": [
    "model= DecisionTreeClassifier(criterion='entropy')"
   ]
  },
  {
   "cell_type": "code",
   "execution_count": 241,
   "metadata": {},
   "outputs": [
    {
     "data": {
      "text/plain": [
       "DecisionTreeClassifier(class_weight=None, criterion='entropy', max_depth=None,\n",
       "                       max_features=None, max_leaf_nodes=None,\n",
       "                       min_impurity_decrease=0.0, min_impurity_split=None,\n",
       "                       min_samples_leaf=1, min_samples_split=2,\n",
       "                       min_weight_fraction_leaf=0.0, presort=False,\n",
       "                       random_state=None, splitter='best')"
      ]
     },
     "execution_count": 241,
     "metadata": {},
     "output_type": "execute_result"
    }
   ],
   "source": [
    "model.fit(train[predictors],train[target])"
   ]
  },
  {
   "cell_type": "code",
   "execution_count": 242,
   "metadata": {},
   "outputs": [],
   "source": [
    "pred_train= model.predict(train[predictors])"
   ]
  },
  {
   "cell_type": "code",
   "execution_count": 243,
   "metadata": {},
   "outputs": [
    {
     "data": {
      "text/html": [
       "<div>\n",
       "<style scoped>\n",
       "    .dataframe tbody tr th:only-of-type {\n",
       "        vertical-align: middle;\n",
       "    }\n",
       "\n",
       "    .dataframe tbody tr th {\n",
       "        vertical-align: top;\n",
       "    }\n",
       "\n",
       "    .dataframe thead th {\n",
       "        text-align: right;\n",
       "    }\n",
       "</style>\n",
       "<table border=\"1\" class=\"dataframe\">\n",
       "  <thead>\n",
       "    <tr style=\"text-align: right;\">\n",
       "      <th>col_0</th>\n",
       "      <th>0</th>\n",
       "      <th>1</th>\n",
       "    </tr>\n",
       "    <tr>\n",
       "      <th>Result</th>\n",
       "      <th></th>\n",
       "      <th></th>\n",
       "    </tr>\n",
       "  </thead>\n",
       "  <tbody>\n",
       "    <tr>\n",
       "      <td>0</td>\n",
       "      <td>181920</td>\n",
       "      <td>1629</td>\n",
       "    </tr>\n",
       "    <tr>\n",
       "      <td>1</td>\n",
       "      <td>1355</td>\n",
       "      <td>549098</td>\n",
       "    </tr>\n",
       "  </tbody>\n",
       "</table>\n",
       "</div>"
      ],
      "text/plain": [
       "col_0        0       1\n",
       "Result                \n",
       "0       181920    1629\n",
       "1         1355  549098"
      ]
     },
     "execution_count": 243,
     "metadata": {},
     "output_type": "execute_result"
    }
   ],
   "source": [
    "pd.crosstab(train[target],pred_train)"
   ]
  },
  {
   "cell_type": "code",
   "execution_count": 244,
   "metadata": {},
   "outputs": [
    {
     "data": {
      "text/plain": [
       "0.9959346159819727"
      ]
     },
     "execution_count": 244,
     "metadata": {},
     "output_type": "execute_result"
    }
   ],
   "source": [
    "np.mean(pred_train== train.Result)"
   ]
  },
  {
   "cell_type": "code",
   "execution_count": 245,
   "metadata": {},
   "outputs": [],
   "source": [
    "pred_test= model.predict(test[predictors])"
   ]
  },
  {
   "cell_type": "code",
   "execution_count": 246,
   "metadata": {},
   "outputs": [
    {
     "data": {
      "text/html": [
       "<div>\n",
       "<style scoped>\n",
       "    .dataframe tbody tr th:only-of-type {\n",
       "        vertical-align: middle;\n",
       "    }\n",
       "\n",
       "    .dataframe tbody tr th {\n",
       "        vertical-align: top;\n",
       "    }\n",
       "\n",
       "    .dataframe thead th {\n",
       "        text-align: right;\n",
       "    }\n",
       "</style>\n",
       "<table border=\"1\" class=\"dataframe\">\n",
       "  <thead>\n",
       "    <tr style=\"text-align: right;\">\n",
       "      <th>col_0</th>\n",
       "      <th>0</th>\n",
       "      <th>1</th>\n",
       "    </tr>\n",
       "    <tr>\n",
       "      <th>Result</th>\n",
       "      <th></th>\n",
       "      <th></th>\n",
       "    </tr>\n",
       "  </thead>\n",
       "  <tbody>\n",
       "    <tr>\n",
       "      <td>0</td>\n",
       "      <td>20649</td>\n",
       "      <td>57970</td>\n",
       "    </tr>\n",
       "    <tr>\n",
       "      <td>1</td>\n",
       "      <td>62172</td>\n",
       "      <td>173782</td>\n",
       "    </tr>\n",
       "  </tbody>\n",
       "</table>\n",
       "</div>"
      ],
      "text/plain": [
       "col_0       0       1\n",
       "Result               \n",
       "0       20649   57970\n",
       "1       62172  173782"
      ]
     },
     "execution_count": 246,
     "metadata": {},
     "output_type": "execute_result"
    }
   ],
   "source": [
    "pd.crosstab(test[target],pred_test)"
   ]
  },
  {
   "cell_type": "code",
   "execution_count": 247,
   "metadata": {},
   "outputs": [
    {
     "data": {
      "text/plain": [
       "0.6180791104131632"
      ]
     },
     "execution_count": 247,
     "metadata": {},
     "output_type": "execute_result"
    }
   ],
   "source": [
    "#Measuring the accuracy of the model on the test set\n",
    "np.mean(pred_test==test[target])"
   ]
  }
 ],
 "metadata": {
  "kernelspec": {
   "display_name": "Python 3",
   "language": "python",
   "name": "python3"
  },
  "language_info": {
   "codemirror_mode": {
    "name": "ipython",
    "version": 3
   },
   "file_extension": ".py",
   "mimetype": "text/x-python",
   "name": "python",
   "nbconvert_exporter": "python",
   "pygments_lexer": "ipython3",
   "version": "3.7.4"
  }
 },
 "nbformat": 4,
 "nbformat_minor": 4
}
